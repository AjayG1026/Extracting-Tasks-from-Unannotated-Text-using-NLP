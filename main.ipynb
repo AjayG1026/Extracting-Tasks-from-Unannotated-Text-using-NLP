{
 "cells": [
  {
   "cell_type": "code",
   "execution_count": null,
   "id": "68e3d897",
   "metadata": {},
   "outputs": [],
   "source": [
    "import re\n",
    "import nltk\n",
    "from nltk.corpus import stopwords\n",
    "from nltk.tokenize import sent_tokenize, word_tokenize\n",
    "from nltk import pos_tag\n",
    "import numpy as np"
   ]
  },
  {
   "cell_type": "code",
   "execution_count": null,
   "id": "94871bc9",
   "metadata": {},
   "outputs": [],
   "source": [
    "\n",
    "nltk.download('punkt')\n",
    "nltk.download('stopwords')\n",
    "nltk.download('averaged_perceptron_tagger')\n",
    "nltk.download('averaged_perceptron_tagger_eng')\n",
    "nltk.download('punkt_tab')"
   ]
  },
  {
   "cell_type": "code",
   "execution_count": null,
   "id": "f39e2603",
   "metadata": {},
   "outputs": [],
   "source": [
    "def preprocess_text(text):\n",
    "    sentences = sent_tokenize(text)\n",
    "    preprocessed = []\n",
    "    for sent in sentences:\n",
    "        sent_clean = re.sub(r'[^\\w\\s]', '', sent)\n",
    "        words = word_tokenize(sent_clean)\n",
    "        words = [word.lower() for word in words if word.lower() not in stopwords.words('english')]\n",
    "        preprocessed.append((sent, words))\n",
    "    return preprocessed"
   ]
  },
  {
   "cell_type": "code",
   "execution_count": null,
   "id": "a3fbf083",
   "metadata": {},
   "outputs": [],
   "source": [
    "def is_task_sentence(sent):\n",
    "    \"\"\"\n",
    "    Determine if a sentence represents a task based on the presence\n",
    "    of obligation phrases or deadline expressions.\n",
    "    \"\"\"\n",
    "    # Check for obligation phrases like \"should\", \"must\"\n",
    "    if re.search(r'\\b(should|must)\\b', sent, re.IGNORECASE):\n",
    "        return True\n",
    "    # Check for phrases like \"has to\" or \"have to\"\n",
    "    if re.search(r'\\b(has|have)\\s+to\\b', sent, re.IGNORECASE):\n",
    "        return True\n",
    "    # Check for deadline expressions (e.g., \"by 9pm\", \"today\")\n",
    "    if re.search(r'\\b(by\\s+\\d+[\\d\\s:]*[ap]m|by\\s+\\w+\\s+\\d+|today|tonight|tomorrow)\\b', sent, re.IGNORECASE):\n",
    "        return True\n",
    "    return False"
   ]
  },
  {
   "cell_type": "code",
   "execution_count": null,
   "id": "034d699c",
   "metadata": {},
   "outputs": [],
   "source": [
    "def identify_tasks(preprocessed_sents):\n",
    "    tasks = []\n",
    "    for original_sent, words in preprocessed_sents:\n",
    "        if is_task_sentence(original_sent):\n",
    "            tasks.append(original_sent)\n",
    "    return tasks"
   ]
  },
  {
   "cell_type": "code",
   "execution_count": null,
   "id": "7997f272",
   "metadata": {},
   "outputs": [],
   "source": [
    "def extract_info(task_sentences):\n",
    "    extracted = []\n",
    "    for sent in task_sentences:\n",
    "        pos_tags = pos_tag(word_tokenize(sent))\n",
    "        # Extract the first proper noun or pronoun as the entity\n",
    "        entity = next((word for word, tag in pos_tags if tag in ['NNP', 'PRP']), None)\n",
    "        # Search for deadline expressions in the sentence\n",
    "        deadline_match = re.search(r'\\b(by\\s+\\d+[\\d\\s:]*[ap]m|by\\s+\\w+\\s+\\d+|today|tonight|tomorrow)\\b', sent, re.IGNORECASE)\n",
    "        deadline = deadline_match.group(0) if deadline_match else None\n",
    "        extracted.append({\n",
    "            'task': sent,\n",
    "            'entity': entity,\n",
    "            'deadline': deadline\n",
    "        })\n",
    "    return extracted"
   ]
  },
  {
   "cell_type": "code",
   "execution_count": null,
   "id": "1ccdbec9",
   "metadata": {},
   "outputs": [],
   "source": [
    "def main(text):\n",
    "    preprocessed = preprocess_text(text)\n",
    "    task_sentences = identify_tasks(preprocessed)\n",
    "    if not task_sentences:\n",
    "        print(\"No tasks found.\")\n",
    "        return\n",
    "\n",
    "    extracted_info = extract_info(task_sentences)\n",
    "    task_texts = [info['task'] for info in extracted_info]\n",
    "\n",
    "    for idx, info in enumerate(extracted_info):\n",
    "        print(f\"Task {idx + 1}:\")\n",
    "        print(f\"  Description: {info['task']}\")\n",
    "        print(f\"  Entity: {info['entity']}\")\n",
    "        print(f\"  Deadline: {info['deadline']}\")\n",
    "        print(\"---\")"
   ]
  },
  {
   "cell_type": "code",
   "execution_count": null,
   "id": "4b874a8d",
   "metadata": {},
   "outputs": [],
   "source": [
    "if __name__ == \"__main__\":\n",
    "    sample_text = \"John has to deliver a package by 9pm. He likes to deliver packages. Rahul should clean the room by 5 pm today.\"\n",
    "    main(sample_text)\n"
   ]
  }
 ],
 "metadata": {
  "kernelspec": {
   "display_name": "base",
   "language": "python",
   "name": "python3"
  },
  "language_info": {
   "name": "python",
   "version": "3.12.7"
  }
 },
 "nbformat": 4,
 "nbformat_minor": 5
}
